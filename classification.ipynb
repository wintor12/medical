{
 "cells": [
  {
   "cell_type": "code",
   "execution_count": 1,
   "metadata": {
    "collapsed": false
   },
   "outputs": [
    {
     "name": "stderr",
     "output_type": "stream",
     "text": [
      "Using gpu device 0: GeForce GTX 980 Ti (CNMeM is enabled with initial size: 80.0% of memory, cuDNN 5103)\n"
     ]
    }
   ],
   "source": [
    "import jieba\n",
    "import gensim, logging\n",
    "from gensim.models import Word2Vec\n",
    "from sklearn.feature_extraction.text import TfidfVectorizer, CountVectorizer\n",
    "import numpy as np"
   ]
  },
  {
   "cell_type": "code",
   "execution_count": 2,
   "metadata": {
    "collapsed": false
   },
   "outputs": [],
   "source": [
    "chinese_punc = \"！？｡＂＃＄％＆＇（）＊＋，－／：；＜＝＞＠［＼］＾＿｀｛｜｝～｟｠｢｣､、〃》﹑\\\\\n",
    "    「」『』【】〔〕〖〗〘〙〚〛〜〝〞〟〰〾〿–—‘’‛“”„‟…‧﹏.。\"\n",
    "punc = chinese_punc.decode(\"utf-8\")\n",
    "english_punc = '!\"#$%&\\'()*+,-./:;<=>?@[\\\\]^_`{|}~'\n",
    "punc += english_punc"
   ]
  },
  {
   "cell_type": "code",
   "execution_count": 3,
   "metadata": {
    "collapsed": true
   },
   "outputs": [],
   "source": [
    "def loadDisease(d):\n",
    "    with open(d + '.txt') as p:\n",
    "        s = p.read()\n",
    "    return s.split('\\n'), d\n",
    "\n",
    "def loadData(d_list):\n",
    "    texts, labels = [], []\n",
    "    for d in d_list:\n",
    "        t, l = loadDisease(d)\n",
    "        texts.extend(t)\n",
    "        labels.extend([l]*len(t))\n",
    "    return texts, labels\n",
    "\n",
    "# def tokenize(texts):\n",
    "#     return [list(jieba.cut(t, cut_all=False)) for t in texts]\n",
    "\n",
    "def tokenize(text):\n",
    "    return list(jieba.cut(text, cut_all=False))"
   ]
  },
  {
   "cell_type": "code",
   "execution_count": 4,
   "metadata": {
    "collapsed": false
   },
   "outputs": [],
   "source": [
    "class Corpus:\n",
    "    def __init__(self, texts, min_tf = 1, max_tf = 1):\n",
    "        self.word2index = {}\n",
    "        self.word2count = {}\n",
    "        self.index2word = {}\n",
    "        self.n_words = 0\n",
    "        self.voc = []\n",
    "        self.addTexts(texts)\n",
    "        \n",
    "        if min_tf > 1 or max_tf < 1.0:\n",
    "            v = self.word2count.keys()\n",
    "            v = sorted(v,key=lambda k: self.word2count[k])\n",
    "            v_max_remove = v[int(max_tf*(len(v))):]\n",
    "            self.n_words = 0\n",
    "            voc = []\n",
    "            word2index = {}\n",
    "            word2count = {}\n",
    "            index2word = {}\n",
    "            for word in self.voc:\n",
    "                if word not in v_max_remove and self.word2count[word] >= min_tf:\n",
    "                    voc.append(word)\n",
    "                    word2index[word] = self.n_words\n",
    "                    index2word[self.n_words] = word\n",
    "                    self.n_words += 1\n",
    "            for word in voc:\n",
    "                word2count[word] = self.word2count[word]\n",
    "            self.word2index = word2index\n",
    "            self.word2count = word2count\n",
    "            self.index2word = index2word\n",
    "            self.voc = voc\n",
    "                \n",
    "        \n",
    "    def addTexts(self, texts):\n",
    "        for text in texts:\n",
    "            for word in text:\n",
    "                self.addWord(word)\n",
    "    \n",
    "    def filterWord(self, word):\n",
    "        if word in punc:\n",
    "            return True\n",
    "    \n",
    "    def addWord(self, word):\n",
    "        if not self.filterWord(word):\n",
    "            if word not in self.word2index:\n",
    "                self.word2index[word] = self.n_words\n",
    "                self.word2count[word] = 1\n",
    "                self.index2word[self.n_words] = word\n",
    "                self.n_words += 1\n",
    "                self.voc.append(word)\n",
    "            else:\n",
    "                self.word2count[word] += 1\n",
    "    \n",
    "    def bagOfWords(self, tokens):\n",
    "        X = np.zeros((len(tokens), len(self.voc)))\n",
    "        for i, t in enumerate(tokens):\n",
    "            for word in t:\n",
    "                if word in self.voc:\n",
    "                    X[i][self.word2index[word]] += 1\n",
    "        return X"
   ]
  },
  {
   "cell_type": "code",
   "execution_count": 5,
   "metadata": {
    "collapsed": false
   },
   "outputs": [
    {
     "name": "stderr",
     "output_type": "stream",
     "text": [
      "Building prefix dict from the default dictionary ...\n",
      "Loading model from cache /tmp/jieba.cache\n",
      "Loading model cost 0.323 seconds.\n",
      "Prefix dict has been built succesfully.\n"
     ]
    }
   ],
   "source": [
    "d_list = ['冠心病','心脏神经官能症','病毒性心肌炎']\n",
    "texts, labels = loadData(d_list)\n",
    "\n",
    "tokens = [tokenize(t) for t in texts]"
   ]
  },
  {
   "cell_type": "code",
   "execution_count": 6,
   "metadata": {
    "collapsed": false
   },
   "outputs": [
    {
     "name": "stdout",
     "output_type": "stream",
     "text": [
      "1456\n"
     ]
    }
   ],
   "source": [
    "corpus = Corpus(tokens,min_tf=2,max_tf=1)\n",
    "print(len(corpus.voc))"
   ]
  },
  {
   "cell_type": "code",
   "execution_count": 7,
   "metadata": {
    "collapsed": false
   },
   "outputs": [],
   "source": [
    "# a = corpus.word2count.keys()\n",
    "# print(len(a))\n",
    "# a.sort(key=lambda k: corpus.word2count[k])\n",
    "# for x in a:\n",
    "#     print x, corpus.word2count[x]"
   ]
  },
  {
   "cell_type": "code",
   "execution_count": 8,
   "metadata": {
    "collapsed": false
   },
   "outputs": [],
   "source": [
    "X = corpus.bagOfWords(tokens)\n",
    "\n",
    "u_labels = list(set(labels))\n",
    "\n",
    "label2index = {}\n",
    "for i, x in enumerate(u_labels):\n",
    "    label2index[x] = i\n",
    "y = np.zeros(len(labels))\n",
    "for i in range(len(labels)):\n",
    "    y[i] = label2index[labels[i]]"
   ]
  },
  {
   "cell_type": "code",
   "execution_count": 9,
   "metadata": {
    "collapsed": false
   },
   "outputs": [
    {
     "name": "stdout",
     "output_type": "stream",
     "text": [
      "(476,)\n",
      "(476, 1456)\n"
     ]
    }
   ],
   "source": [
    "print(y.shape)\n",
    "print(X.shape)"
   ]
  }
 ],
 "metadata": {
  "kernelspec": {
   "display_name": "Python 2",
   "language": "python",
   "name": "python2"
  },
  "language_info": {
   "codemirror_mode": {
    "name": "ipython",
    "version": 2
   },
   "file_extension": ".py",
   "mimetype": "text/x-python",
   "name": "python",
   "nbconvert_exporter": "python",
   "pygments_lexer": "ipython2",
   "version": "2.7.12"
  }
 },
 "nbformat": 4,
 "nbformat_minor": 1
}
