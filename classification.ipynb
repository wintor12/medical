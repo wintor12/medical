{
 "cells": [
  {
   "cell_type": "code",
   "execution_count": 1,
   "metadata": {
    "collapsed": false
   },
   "outputs": [
    {
     "name": "stderr",
     "output_type": "stream",
     "text": [
      "Using gpu device 0: GeForce GTX 980 Ti (CNMeM is enabled with initial size: 80.0% of memory, cuDNN 5103)\n"
     ]
    }
   ],
   "source": [
    "import jieba\n",
    "import gensim, logging\n",
    "from gensim.models import Word2Vec\n",
    "from sklearn.feature_extraction.text import TfidfVectorizer, CountVectorizer\n",
    "import numpy as np"
   ]
  },
  {
   "cell_type": "code",
   "execution_count": 2,
   "metadata": {
    "collapsed": false
   },
   "outputs": [],
   "source": [
    "chinese_punc = \"！？｡＂＃＄％＆＇（）＊＋，－／：；＜＝＞＠［＼］＾＿｀｛｜｝～｟｠｢｣､、〃》﹑\\\\\n",
    "    「」『』【】〔〕〖〗〘〙〚〛〜〝〞〟〰〾〿–—‘’‛“”„‟…‧﹏.。\"\n",
    "punc = chinese_punc.decode(\"utf-8\")\n",
    "english_punc = '!\"#$%&\\'()*+,-./:;<=>?@[\\\\]^_`{|}~'\n",
    "punc += english_punc"
   ]
  },
  {
   "cell_type": "code",
   "execution_count": 3,
   "metadata": {
    "collapsed": true
   },
   "outputs": [],
   "source": [
    "def loadDisease(d):\n",
    "    with open(d + '.txt') as p:\n",
    "        s = p.read()\n",
    "    return s.split('\\n'), d\n",
    "\n",
    "def loadData(d_list):\n",
    "    texts, labels = [], []\n",
    "    for d in d_list:\n",
    "        t, l = loadDisease(d)\n",
    "        texts.extend(t)\n",
    "        labels.extend([l]*len(t))\n",
    "    return texts, labels\n",
    "\n",
    "# def tokenize(texts):\n",
    "#     return [list(jieba.cut(t, cut_all=False)) for t in texts]\n",
    "\n",
    "def tokenize(text):\n",
    "    return list(jieba.cut(text, cut_all=False))"
   ]
  },
  {
   "cell_type": "code",
   "execution_count": 4,
   "metadata": {
    "collapsed": false
   },
   "outputs": [],
   "source": [
    "class Corpus:\n",
    "    def __init__(self, texts, min_tf = 1, max_tf = 1):\n",
    "        self.word2index = {}\n",
    "        self.word2count = {}\n",
    "        self.index2word = {}\n",
    "        self.n_words = 0\n",
    "        self.voc = []\n",
    "        self.addTexts(texts)\n",
    "        \n",
    "        if min_tf > 1 or max_tf < 1.0:\n",
    "            v = self.word2count.keys()\n",
    "            v = sorted(v,key=lambda k: self.word2count[k])\n",
    "            v_max_remove = v[int(max_tf*(len(v))):]\n",
    "            self.n_words = 0\n",
    "            voc = []\n",
    "            word2index = {}\n",
    "            word2count = {}\n",
    "            index2word = {}\n",
    "            for word in self.voc:\n",
    "                if word not in v_max_remove and self.word2count[word] >= min_tf:\n",
    "                    voc.append(word)\n",
    "                    word2index[word] = self.n_words\n",
    "                    index2word[self.n_words] = word\n",
    "                    self.n_words += 1\n",
    "            for word in voc:\n",
    "                word2count[word] = self.word2count[word]\n",
    "            self.word2index = word2index\n",
    "            self.word2count = word2count\n",
    "            self.index2word = index2word\n",
    "            self.voc = voc\n",
    "                \n",
    "        \n",
    "    def addTexts(self, texts):\n",
    "        for text in texts:\n",
    "            for word in text:\n",
    "                self.addWord(word)\n",
    "    \n",
    "    def filterWord(self, word):\n",
    "        if word in punc:\n",
    "            return True\n",
    "    \n",
    "    def addWord(self, word):\n",
    "        if not self.filterWord(word):\n",
    "            if word not in self.word2index:\n",
    "                self.word2index[word] = self.n_words\n",
    "                self.word2count[word] = 1\n",
    "                self.index2word[self.n_words] = word\n",
    "                self.n_words += 1\n",
    "                self.voc.append(word)\n",
    "            else:\n",
    "                self.word2count[word] += 1\n",
    "    \n",
    "    def bagOfWords(self, tokens):\n",
    "        X = np.zeros((len(tokens), len(self.voc)))\n",
    "        for i, t in enumerate(tokens):\n",
    "            for word in t:\n",
    "                if word in self.voc:\n",
    "                    X[i][self.word2index[word]] += 1\n",
    "        return X"
   ]
  },
  {
   "cell_type": "code",
   "execution_count": 5,
   "metadata": {
    "collapsed": false
   },
   "outputs": [
    {
     "name": "stderr",
     "output_type": "stream",
     "text": [
      "Building prefix dict from the default dictionary ...\n",
      "Loading model from cache /tmp/jieba.cache\n",
      "Loading model cost 0.323 seconds.\n",
      "Prefix dict has been built succesfully.\n"
     ]
    }
   ],
   "source": [
    "d_list = ['冠心病','心脏神经官能症','病毒性心肌炎']\n",
    "texts, labels = loadData(d_list)\n",
    "\n",
    "tokens = [tokenize(t) for t in texts]"
   ]
  },
  {
   "cell_type": "code",
   "execution_count": 35,
   "metadata": {
    "collapsed": false
   },
   "outputs": [
    {
     "name": "stdout",
     "output_type": "stream",
     "text": [
      "1322\n"
     ]
    }
   ],
   "source": [
    "corpus = Corpus(tokens,min_tf=2,max_tf=0.95)\n",
    "print(len(corpus.voc))"
   ]
  },
  {
   "cell_type": "code",
   "execution_count": 7,
   "metadata": {
    "collapsed": false
   },
   "outputs": [],
   "source": [
    "# a = corpus.word2count.keys()\n",
    "# print(len(a))\n",
    "# a.sort(key=lambda k: corpus.word2count[k])\n",
    "# for x in a:\n",
    "#     print x, corpus.word2count[x]"
   ]
  },
  {
   "cell_type": "code",
   "execution_count": 36,
   "metadata": {
    "collapsed": false
   },
   "outputs": [
    {
     "name": "stdout",
     "output_type": "stream",
     "text": [
      "(476,)\n",
      "(476, 1322)\n"
     ]
    }
   ],
   "source": [
    "X = corpus.bagOfWords(tokens)\n",
    "\n",
    "u_labels = list(set(labels))\n",
    "\n",
    "label2index = {}\n",
    "for i, x in enumerate(u_labels):\n",
    "    label2index[x] = i\n",
    "y = np.zeros(len(labels))\n",
    "for i in range(len(labels)):\n",
    "    y[i] = label2index[labels[i]]\n",
    "\n",
    "print(y.shape)\n",
    "print(X.shape)"
   ]
  },
  {
   "cell_type": "code",
   "execution_count": 37,
   "metadata": {
    "collapsed": false
   },
   "outputs": [],
   "source": [
    "np.random.seed(1234)\n",
    "indice = np.arange(X.shape[0])\n",
    "np.random.shuffle(indice)\n",
    "X = X[indice]\n",
    "y = y[indice]\n",
    "cross_val = 5"
   ]
  },
  {
   "cell_type": "code",
   "execution_count": 48,
   "metadata": {
    "collapsed": true
   },
   "outputs": [],
   "source": [
    "def classify(X, y, classifier):\n",
    "    accs = []\n",
    "    for i in range(cross_val):\n",
    "        interval = X.shape[0]/cross_val\n",
    "        X_test = X[interval*i:interval*(i+1)]\n",
    "        X_train = np.append(X[0:i*interval], X[interval*(i+1):],axis=0)\n",
    "        y_test = y[interval*i:interval*(i+1)]\n",
    "        y_train = np.append(y[0:i*interval], y[interval*(i+1):])\n",
    "        classifier.fit(X_train, y_train)\n",
    "        res = classifier.predict(X_test)\n",
    "        acc = np.sum(res == y_test)/float(X_test.shape[0])\n",
    "        print(acc)\n",
    "        accs.append(acc)\n",
    "    accs = np.array(accs)\n",
    "    print(np.mean(accs), np.std(accs))"
   ]
  },
  {
   "cell_type": "code",
   "execution_count": 49,
   "metadata": {
    "collapsed": false
   },
   "outputs": [
    {
     "name": "stdout",
     "output_type": "stream",
     "text": [
      "0.789473684211\n",
      "0.778947368421\n",
      "0.736842105263\n",
      "0.747368421053\n",
      "0.831578947368\n",
      "(0.77684210526315789, 0.033552373580019446)\n"
     ]
    }
   ],
   "source": [
    "from sklearn.ensemble.forest import RandomForestClassifier\n",
    "classify(X, y, RandomForestClassifier(n_estimators=10))"
   ]
  },
  {
   "cell_type": "code",
   "execution_count": 50,
   "metadata": {
    "collapsed": false
   },
   "outputs": [
    {
     "name": "stdout",
     "output_type": "stream",
     "text": [
      "0.589473684211\n",
      "0.715789473684\n",
      "0.736842105263\n",
      "0.673684210526\n",
      "0.726315789474\n",
      "(0.68842105263157893, 0.053921046209960855)\n"
     ]
    }
   ],
   "source": [
    "from sklearn import svm\n",
    "classify(X, y, svm.SVC())"
   ]
  },
  {
   "cell_type": "code",
   "execution_count": 51,
   "metadata": {
    "collapsed": false
   },
   "outputs": [
    {
     "name": "stdout",
     "output_type": "stream",
     "text": [
      "0.810526315789\n",
      "0.831578947368\n",
      "0.768421052632\n",
      "0.778947368421\n",
      "0.842105263158\n",
      "(0.8063157894736841, 0.028711961467338655)\n"
     ]
    }
   ],
   "source": [
    "from sklearn.linear_model import LogisticRegression\n",
    "classify(X, y, LogisticRegression())"
   ]
  }
 ],
 "metadata": {
  "kernelspec": {
   "display_name": "Python 2",
   "language": "python",
   "name": "python2"
  },
  "language_info": {
   "codemirror_mode": {
    "name": "ipython",
    "version": 2
   },
   "file_extension": ".py",
   "mimetype": "text/x-python",
   "name": "python",
   "nbconvert_exporter": "python",
   "pygments_lexer": "ipython2",
   "version": "2.7.12"
  }
 },
 "nbformat": 4,
 "nbformat_minor": 1
}
